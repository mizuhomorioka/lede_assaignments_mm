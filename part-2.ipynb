{
 "cells": [
  {
   "cell_type": "code",
   "execution_count": 13,
   "metadata": {},
   "outputs": [],
   "source": [
    "#https://www.weatherapi.com/docs/"
   ]
  },
  {
   "cell_type": "code",
   "execution_count": 14,
   "metadata": {},
   "outputs": [
    {
     "name": "stdout",
     "output_type": "stream",
     "text": [
      "dict_keys(['location', 'current'])\n",
      "Partly cloudy\n",
      "Japan\n",
      "it feels like 2.6 wamer\n"
     ]
    }
   ],
   "source": [
    "#Make a request for the current weather where you are born, or somewhere you've lived.\n",
    "#Print out the country this location is in.\n",
    "#Print out the difference between the current temperature and how warm it feels.\n",
    "import requests\n",
    "url=\"http://api.weatherapi.com/v1/current.json?key=4ffb4f92647b46bdb4814530231106&q=Kyoto\"\n",
    "response=requests.get(url)\n",
    "data=response.json()\n",
    "\n",
    "print(data.keys())\n",
    "print(data['current']['condition']['text'])\n",
    "print(data['location']['country'])\n",
    "\n",
    "#test.print(data['current']['temp_c'])\n",
    "#test.print(data['current']['feelslike_c'])\n",
    "differnce_wether=data['current']['feelslike_c']-data['current']['temp_c']\n",
    "ro_difference_weather=round(differnce_wether,2)\n",
    "if ro_difference_weather>0:\n",
    "    print(\"it feels like\",ro_difference_weather,\"wamer\")\n",
    "else:\n",
    "    print(\"it feels like\",abs(ro_difference_weather),\"colder\")\n"
   ]
  },
  {
   "cell_type": "code",
   "execution_count": 16,
   "metadata": {},
   "outputs": [
    {
     "name": "stdout",
     "output_type": "stream",
     "text": [
      "22.0\n"
     ]
    }
   ],
   "source": [
    "#What's the current temperature at Heathrow International Airport? Use the airport's IATA code to search.\n",
    "import requests\n",
    "url=\"http://api.weatherapi.com/v1/current.json?key=4ffb4f92647b46bdb4814530231106&q=LHR\"\n",
    "response=requests.get(url)\n",
    "data=response.json()\n",
    "print(data['current']['temp_c'])"
   ]
  },
  {
   "cell_type": "code",
   "execution_count": 30,
   "metadata": {},
   "outputs": [
    {
     "name": "stdout",
     "output_type": "stream",
     "text": [
      "2023-06-11\n",
      "2023-06-12\n",
      "2023-06-13\n",
      "29.9\n",
      "28.6\n",
      "25.2\n",
      "2023-06-11\n"
     ]
    }
   ],
   "source": [
    "#What URL would I use to request a 3-day forecast at Heathrow?\n",
    "#http://api.weatherapi.com/v1/forecast.json?key=4ffb4f92647b46bdb4814530231106&q=LHR&days=3\n",
    "#Print the date of each of the 3 days you're getting a forecast for.\n",
    "\n",
    "import requests\n",
    "url=\"http://api.weatherapi.com/v1/forecast.json?key=4ffb4f92647b46bdb4814530231106&q=LHR&days=3\"\n",
    "response=requests.get(url)\n",
    "data=response.json()\n",
    "#use json viewer\n",
    "#print(data['forecast']['forecastday'][1]['date'])\n",
    "for day in data['forecast']['forecastday']:\n",
    "    print(day['date'])\n",
    "\n",
    "#Print the maximum temperature of each of the days.\n",
    "for day_max in data['forecast']['forecastday']:\n",
    "    print(day_max['day']['maxtemp_c'])\n",
    "\n",
    "#Print only the day with the highest maximum temperature.\n",
    "day_max_11=data['forecast']['forecastday'][0]['day']['maxtemp_c']\n",
    "day_max_12=data['forecast']['forecastday'][1]['day']['maxtemp_c']\n",
    "day_max_13=data['forecast']['forecastday'][2]['day']['maxtemp_c']\n",
    "max_max_temp=max(day_max_11,day_max_12,day_max_13)\n",
    "if max_max_temp == day_max_11:\n",
    "    print(data['forecast']['forecastday'][0]['date'])\n",
    "elif max_max_temp == day_max_12:\n",
    "    print(data['forecast']['forecastday'][1]['date'])\n",
    "else:\n",
    "    print(data['forecast']['forecastday'][2]['date'])"
   ]
  },
  {
   "cell_type": "code",
   "execution_count": null,
   "metadata": {},
   "outputs": [],
   "source": []
  }
 ],
 "metadata": {
  "kernelspec": {
   "display_name": "Python 3",
   "language": "python",
   "name": "python3"
  },
  "language_info": {
   "codemirror_mode": {
    "name": "ipython",
    "version": 3
   },
   "file_extension": ".py",
   "mimetype": "text/x-python",
   "name": "python",
   "nbconvert_exporter": "python",
   "pygments_lexer": "ipython3",
   "version": "3.10.11"
  },
  "orig_nbformat": 4
 },
 "nbformat": 4,
 "nbformat_minor": 2
}
